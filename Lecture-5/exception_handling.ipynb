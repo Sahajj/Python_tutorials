{
 "cells": [
  {
   "cell_type": "code",
   "execution_count": 6,
   "metadata": {},
   "outputs": [
    {
     "name": "stdout",
     "output_type": "stream",
     "text": [
      "Sorry this is not allowed\n"
     ]
    }
   ],
   "source": [
    "try:\n",
    "    a = d\n",
    "except Exception:\n",
    "    print(\"Sorry this is not allowed\")"
   ]
  },
  {
   "cell_type": "code",
   "execution_count": 10,
   "metadata": {},
   "outputs": [
    {
     "name": "stdout",
     "output_type": "stream",
     "text": [
      "Sorry this file does not exist\n"
     ]
    }
   ],
   "source": [
    "try:\n",
    "    f = open(\"test.txt\") # this will trhow an error because file does not exist\n",
    "except FileNotFoundError:\n",
    "    print(\"Sorry this file does not exist\")"
   ]
  },
  {
   "cell_type": "code",
   "execution_count": null,
   "metadata": {},
   "outputs": [],
   "source": []
  },
  {
   "cell_type": "code",
   "execution_count": 12,
   "metadata": {},
   "outputs": [
    {
     "name": "stdout",
     "output_type": "stream",
     "text": [
      "Sorry this file does not exist\n"
     ]
    }
   ],
   "source": [
    "try:\n",
    "    a = e # this will trhow an error because file does not exist\n",
    "except Exception:\n",
    "    print(\"Sorry this file does not exist\")"
   ]
  },
  {
   "cell_type": "code",
   "execution_count": 13,
   "metadata": {},
   "outputs": [
    {
     "name": "stdout",
     "output_type": "stream",
     "text": [
      "Sorry this file does not exist\n"
     ]
    }
   ],
   "source": [
    "try:\n",
    "    f = open(\"first.txt\")\n",
    "    a = e # this will trhow an error because file does not exist\n",
    "except Exception:\n",
    "    print(\"Sorry this file does not exist\")"
   ]
  },
  {
   "cell_type": "code",
   "execution_count": 14,
   "metadata": {},
   "outputs": [],
   "source": [
    "# multiple except values"
   ]
  },
  {
   "cell_type": "code",
   "execution_count": 25,
   "metadata": {},
   "outputs": [
    {
     "name": "stdout",
     "output_type": "stream",
     "text": [
      "will this be printed?\n",
      "[Errno 2] No such file or directory: 'file.txt'\n"
     ]
    }
   ],
   "source": [
    "try:\n",
    "#     d = iii\n",
    "    print(\"will this be printed?\")\n",
    "    f = open(\"file.txt\") # this raises an error\n",
    "    d = iii\n",
    "    print(\"I did not run\")\n",
    "except FileNotFoundError as e:\n",
    "    print(e)\n",
    "except Exception as e:\n",
    "    print(e)"
   ]
  },
  {
   "cell_type": "code",
   "execution_count": 27,
   "metadata": {},
   "outputs": [],
   "source": [
    "# else block: it contains the code that will run if try block does not raise any exception"
   ]
  },
  {
   "cell_type": "code",
   "execution_count": 31,
   "metadata": {},
   "outputs": [
    {
     "name": "stdout",
     "output_type": "stream",
     "text": [
      "heelo my name is Kunal.\n"
     ]
    }
   ],
   "source": [
    "try:\n",
    "    f = open(\"first.txt\")\n",
    "except Exception:\n",
    "    print(\"Error aa gaya\")\n",
    "else: # this runs if try block is successful\n",
    "    print(f.read())\n",
    "    f.close() # you can use context managers"
   ]
  },
  {
   "cell_type": "code",
   "execution_count": 32,
   "metadata": {},
   "outputs": [],
   "source": [
    "# finally block: runs the code no matter what happens"
   ]
  },
  {
   "cell_type": "code",
   "execution_count": 35,
   "metadata": {},
   "outputs": [
    {
     "name": "stdout",
     "output_type": "stream",
     "text": [
      "Error aa gaya\n",
      "this will run always\n"
     ]
    }
   ],
   "source": [
    "try:\n",
    "    f = open(\"fir.txt\")\n",
    "except Exception:\n",
    "    print(\"Error aa gaya\")\n",
    "else: # this runs if try block is successful\n",
    "    print(f.read())\n",
    "    f.close() # you can use context managers\n",
    "finally:\n",
    "    # get rid of the resources\n",
    "    print(\"this will run always\")"
   ]
  },
  {
   "cell_type": "code",
   "execution_count": null,
   "metadata": {},
   "outputs": [],
   "source": []
  }
 ],
 "metadata": {
  "kernelspec": {
   "display_name": "Python 3",
   "language": "python",
   "name": "python3"
  },
  "language_info": {
   "codemirror_mode": {
    "name": "ipython",
    "version": 3
   },
   "file_extension": ".py",
   "mimetype": "text/x-python",
   "name": "python",
   "nbconvert_exporter": "python",
   "pygments_lexer": "ipython3",
   "version": "3.8.0"
  }
 },
 "nbformat": 4,
 "nbformat_minor": 4
}
